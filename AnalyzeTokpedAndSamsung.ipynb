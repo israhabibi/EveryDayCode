{
 "cells": [
  {
   "cell_type": "code",
   "execution_count": 1,
   "metadata": {},
   "outputs": [],
   "source": [
    "import pandas as pd"
   ]
  },
  {
   "cell_type": "code",
   "execution_count": 15,
   "metadata": {},
   "outputs": [],
   "source": [
    "dfTp = pd.read_csv('TokPedScrapperOut/Kulkas Samsung2020-06-06.csv')\n",
    "dfSa = pd.read_csv('TokPedScrapperOut/KulkasSamsung.csv')"
   ]
  },
  {
   "cell_type": "code",
   "execution_count": 18,
   "metadata": {},
   "outputs": [
    {
     "data": {
      "text/plain": [
       "0     RT35K5030B1/SE\n",
       "1     RT38K503JS8/SE\n",
       "2     RT38K5030B1/SE\n",
       "3     RR18R1000SA/SE\n",
       "4     RS64R5141SL/SE\n",
       "5     RS62R5001SL/SE\n",
       "6     RS62R5041B4/SE\n",
       "7     RS63R5561B4/SE\n",
       "8     RS61R5001M9/SE\n",
       "9     RT25FARBDSA/SE\n",
       "10    RT29K5032DX/SE\n",
       "11    RT35K5032DX/SE\n",
       "12    RT38K5032DX/SE\n",
       "13    RT22FARBDSA/SE\n",
       "14    RT19M300BGS/SE\n",
       "15    RT29K5032S8/SE\n",
       "16    RT62K7011BS/SE\n",
       "17    RT32K5032S8/SE\n",
       "18    RT43K6231S8/SE\n",
       "19    RT46K6231BS/SE\n",
       "20    RT46K6231S8/SE\n",
       "21    RT50K6241S8/SE\n",
       "22    RT38K5032S8/SE\n",
       "23    RT53K6231BS/SE\n",
       "24    RT20FARWDSA/SE\n",
       "Name: tipeKulkas, dtype: object"
      ]
     },
     "execution_count": 18,
     "metadata": {},
     "output_type": "execute_result"
    }
   ],
   "source": [
    "dfSa['tipeKulkas']"
   ]
  },
  {
   "cell_type": "code",
   "execution_count": 19,
   "metadata": {},
   "outputs": [
    {
     "data": {
      "text/plain": [
       "0       DEFROST-BIMETAL KULKAS 3 KABEL ST-3 + FUSE DAL...\n",
       "1                      Thermistor kulkas samsung original\n",
       "2       SAMSUNG RT29K5032S8 Kulkas 2 Pintu Twin Coolin...\n",
       "3       Samsung RT25FARBDSA Kulkas Lemasi ES 2 Pintu R...\n",
       "4           SAMSUNG - BIG 2 DOOR REFRIGERATOR RT46K6231BS\n",
       "                              ...                        \n",
       "5116                     Inverter Kulkas Samsung RT41TSGL\n",
       "5117    PCB modul inverter kulkas samsung RT25FARBDSA ...\n",
       "5118    Samsung Kulkas RT 20FAR WDWW - PUTIH -Inverter...\n",
       "5119                                KULKAS SAMSUNG 22 FAR\n",
       "5120               TERMIS kulkas 2 PINTU SAMSUNG oryginal\n",
       "Name: name, Length: 5121, dtype: object"
      ]
     },
     "execution_count": 19,
     "metadata": {},
     "output_type": "execute_result"
    }
   ],
   "source": [
    "dfTp['name']"
   ]
  },
  {
   "cell_type": "code",
   "execution_count": null,
   "metadata": {},
   "outputs": [],
   "source": []
  }
 ],
 "metadata": {
  "kernelspec": {
   "display_name": "Python 3.7.1 64-bit ('LocEnv': conda)",
   "language": "python",
   "name": "python37164bitlocenvconda2ab0ee2a3ad84993b386a03cb56d4356"
  },
  "language_info": {
   "codemirror_mode": {
    "name": "ipython",
    "version": 3
   },
   "file_extension": ".py",
   "mimetype": "text/x-python",
   "name": "python",
   "nbconvert_exporter": "python",
   "pygments_lexer": "ipython3",
   "version": "3.7.1"
  }
 },
 "nbformat": 4,
 "nbformat_minor": 4
}
